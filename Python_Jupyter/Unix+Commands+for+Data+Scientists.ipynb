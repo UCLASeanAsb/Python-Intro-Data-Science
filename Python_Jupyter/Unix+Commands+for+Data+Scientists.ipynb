{
 "cells": [
  {
   "cell_type": "code",
   "execution_count": 4,
   "metadata": {},
   "outputs": [
    {
     "name": "stdout",
     "output_type": "stream",
     "text": [
      " Volume in drive C is Windows8_OS\n",
      " Volume Serial Number is 8C1B-710B\n",
      "\n",
      " Directory of C:\\Users\\asburysean\n",
      "\n",
      "04/10/2019  10:46 AM    <DIR>          .\n",
      "04/10/2019  10:46 AM    <DIR>          ..\n",
      "12/21/2016  04:19 PM    <DIR>          .android\n",
      "09/25/2017  06:13 PM             8,947 .bash_history\n",
      "04/10/2016  07:19 AM    <DIR>          .dnx\n",
      "04/10/2019  10:30 AM    <DIR>          .ipynb_checkpoints\n",
      "12/27/2017  01:08 PM    <DIR>          .ipython\n",
      "04/10/2019  08:09 AM    <DIR>          .jupyter\n",
      "12/27/2017  01:48 PM    <DIR>          .matplotlib\n",
      "03/20/2019  12:51 PM           180,157 .RData\n",
      "03/20/2019  12:51 PM            24,132 .Rhistory\n",
      "04/04/2019  03:43 PM    <DIR>          .spyder-py3\n",
      "04/10/2016  09:13 AM    <DIR>          .vs\n",
      "03/20/2019  11:20 AM               218 ~.Rproj\n",
      "12/29/2017  04:44 PM            11,099 03_Numpy_Notebook.ipynb\n",
      "12/12/2018  10:11 AM    <DIR>          3D Objects\n",
      "03/08/2019  11:19 AM               707 465 Q1.R\n",
      "03/08/2019  11:19 AM               398 465Q2.R\n",
      "03/08/2019  11:20 AM               434 465Q3.R\n",
      "12/13/2017  03:56 PM    <DIR>          Anaconda3\n",
      "06/20/2016  09:33 PM         8,388,608 AzureStorageEmulatorDb44.mdf\n",
      "06/20/2016  09:33 PM         8,388,608 AzureStorageEmulatorDb44_log.ldf\n",
      "12/12/2018  10:11 AM    <DIR>          Contacts\n",
      "02/15/2019  06:58 PM    <DIR>          Desktop\n",
      "04/10/2019  07:45 AM    <DIR>          Documents\n",
      "04/10/2019  10:38 AM    <DIR>          Downloads\n",
      "04/10/2019  07:29 AM    <DIR>          Dropbox\n",
      "12/12/2018  10:11 AM    <DIR>          Favorites\n",
      "07/29/2018  01:10 PM    <DIR>          Hightail for Lenovo\n",
      "04/10/2019  10:25 AM            21,408 Intro Notebook 1.ipynb\n",
      "12/27/2017  01:54 PM             4,564 Intro Notebook.ipynb\n",
      "12/16/2017  03:03 PM    <DIR>          knime-workspace\n",
      "12/12/2018  10:11 AM    <DIR>          Links\n",
      "12/12/2018  10:11 AM    <DIR>          Music\n",
      "12/29/2017  07:00 PM            18,917 Numpy_Notebook.ipynb\n",
      "04/10/2019  10:18 AM    <DIR>          OneDrive\n",
      "02/10/2015  08:48 PM    <DIR>          OneDrive.old\n",
      "12/12/2018  10:11 AM    <DIR>          Pictures\n",
      "03/11/2019  10:24 AM             1,093 Protien 465.R\n",
      "12/13/2017  03:31 PM                 0 python\n",
      "01/17/2018  08:36 PM    <DIR>          R\n",
      "05/21/2018  02:57 PM    <DIR>          Roaming\n",
      "01/31/2019  01:33 PM             5,286 Rplot.png\n",
      "12/12/2018  10:11 AM    <DIR>          Saved Games\n",
      "12/12/2018  10:11 AM    <DIR>          Searches\n",
      "03/04/2019  03:55 PM               547 Stat 465 code.R\n",
      "02/22/2019  02:43 PM               614 Stat465 r code hw 2.R\n",
      "03/06/2016  10:12 AM    <DIR>          Tracing\n",
      "04/10/2019  10:46 AM               841 Unix Commands for Data Scientists.ipynb\n",
      "12/27/2017  02:19 PM             1,272 Untitled.ipynb\n",
      "04/04/2019  03:45 PM                72 Untitled1.ipynb\n",
      "04/10/2019  08:22 AM                72 Untitled2.ipynb\n",
      "12/12/2018  10:11 AM    <DIR>          Videos\n",
      "04/05/2019  05:12 PM             5,607 Word Count Project (Charles Dickens, A Tale of Two Cities).ipynb\n",
      "              23 File(s)     17,063,601 bytes\n",
      "              31 Dir(s)  95,518,711,808 bytes free\n"
     ]
    }
   ],
   "source": [
    "%ls"
   ]
  },
  {
   "cell_type": "code",
   "execution_count": 6,
   "metadata": {},
   "outputs": [
    {
     "name": "stdout",
     "output_type": "stream",
     "text": [
      "C:\\Users\\asburysean\\Downloads\n"
     ]
    }
   ],
   "source": [
    "%cd Downloads/"
   ]
  },
  {
   "cell_type": "code",
   "execution_count": 7,
   "metadata": {},
   "outputs": [
    {
     "name": "stdout",
     "output_type": "stream",
     "text": [
      "C:\\Users\\asburysean\\Downloads\\Week-3-UNIX\n"
     ]
    }
   ],
   "source": [
    "%cd Week-3-UNIX"
   ]
  },
  {
   "cell_type": "code",
   "execution_count": 10,
   "metadata": {},
   "outputs": [
    {
     "name": "stdout",
     "output_type": "stream",
     "text": [
      " Volume in drive C is Windows8_OS\n",
      " Volume Serial Number is 8C1B-710B\n",
      "\n",
      " Directory of C:\\Users\\asburysean\\Downloads\\Week-3-UNIX\\Week-3-UNIX\n",
      "\n",
      "04/10/2019  10:39 AM    <DIR>          .\n",
      "04/10/2019  10:39 AM    <DIR>          ..\n",
      "04/10/2019  10:39 AM            83,604 02_UNIX_reading.pdf\n",
      "04/10/2019  10:39 AM    <DIR>          unix\n",
      "04/10/2019  10:39 AM            22,091 UNIX-Jupyter-Notebook-Example.ipynb\n",
      "               2 File(s)        105,695 bytes\n",
      "               3 Dir(s)  95,518,461,952 bytes free\n"
     ]
    }
   ],
   "source": [
    "%ls Week-3-UNIX"
   ]
  },
  {
   "cell_type": "code",
   "execution_count": 12,
   "metadata": {},
   "outputs": [
    {
     "name": "stdout",
     "output_type": "stream",
     "text": [
      "C:\\Users\\asburysean\\Downloads\\Week-3-UNIX\\Week-3-UNIX\n"
     ]
    }
   ],
   "source": [
    "% cd Week-3-UNIX"
   ]
  },
  {
   "cell_type": "code",
   "execution_count": 14,
   "metadata": {},
   "outputs": [
    {
     "name": "stdout",
     "output_type": "stream",
     "text": [
      "C:\\Users\\asburysean\\Downloads\\Week-3-UNIX\\Week-3-UNIX\\unix\n"
     ]
    }
   ],
   "source": [
    "% cd unix"
   ]
  },
  {
   "cell_type": "code",
   "execution_count": 17,
   "metadata": {},
   "outputs": [
    {
     "name": "stdout",
     "output_type": "stream",
     "text": [
      " Volume in drive C is Windows8_OS\n",
      " Volume Serial Number is 8C1B-710B\n",
      "\n",
      " Directory of C:\\Users\\asburysean\\Downloads\\Week-3-UNIX\\Week-3-UNIX\\unix\n",
      "\n",
      "04/10/2019  10:39 AM    <DIR>          .\n",
      "04/10/2019  10:39 AM    <DIR>          ..\n",
      "04/10/2019  10:39 AM         5,583,442 shakespeare.txt\n",
      "               1 File(s)      5,583,442 bytes\n",
      "               2 Dir(s)  95,511,486,464 bytes free\n"
     ]
    }
   ],
   "source": [
    "%ls"
   ]
  },
  {
   "cell_type": "code",
   "execution_count": 18,
   "metadata": {},
   "outputs": [
    {
     "name": "stdout",
     "output_type": "stream",
     "text": [
      "./unix/shakespeare.txt\n",
      "./unix/shakespeare.txt\n"
     ]
    }
   ],
   "source": [
    "filename = './unix/shakespeare.txt'\n",
    "%echo $filename\n",
    "print(filename)"
   ]
  },
  {
   "cell_type": "markdown",
   "metadata": {},
   "source": [
    "## Head"
   ]
  },
  {
   "cell_type": "code",
   "execution_count": 21,
   "metadata": {},
   "outputs": [
    {
     "name": "stderr",
     "output_type": "stream",
     "text": [
      "ERROR:root:Line magic function `%head` not found.\n"
     ]
    }
   ],
   "source": [
    "%head -n 3 $filename"
   ]
  },
  {
   "cell_type": "code",
   "execution_count": 22,
   "metadata": {},
   "outputs": [
    {
     "name": "stderr",
     "output_type": "stream",
     "text": [
      "ERROR:root:Line magic function `%tail` not found.\n"
     ]
    }
   ],
   "source": [
    "%tail -n 10 $filename"
   ]
  },
  {
   "cell_type": "code",
   "execution_count": 23,
   "metadata": {},
   "outputs": [
    {
     "name": "stderr",
     "output_type": "stream",
     "text": [
      "ERROR:root:Line magic function `%wc` not found.\n"
     ]
    }
   ],
   "source": [
    "%wc $filename"
   ]
  },
  {
   "cell_type": "code",
   "execution_count": 24,
   "metadata": {},
   "outputs": [
    {
     "name": "stderr",
     "output_type": "stream",
     "text": [
      "ERROR:root:Line magic function `%cat` not found.\n"
     ]
    }
   ],
   "source": [
    "%cat $filename"
   ]
  },
  {
   "cell_type": "code",
   "execution_count": 25,
   "metadata": {},
   "outputs": [
    {
     "name": "stderr",
     "output_type": "stream",
     "text": [
      "ERROR:root:Line magic function `%grep` not found.\n"
     ]
    }
   ],
   "source": [
    "%grep -i 'parchment' $filename"
   ]
  },
  {
   "cell_type": "code",
   "execution_count": null,
   "metadata": {
    "collapsed": true
   },
   "outputs": [],
   "source": []
  }
 ],
 "metadata": {
  "kernelspec": {
   "display_name": "Python 3",
   "language": "python",
   "name": "python3"
  },
  "language_info": {
   "codemirror_mode": {
    "name": "ipython",
    "version": 3
   },
   "file_extension": ".py",
   "mimetype": "text/x-python",
   "name": "python",
   "nbconvert_exporter": "python",
   "pygments_lexer": "ipython3",
   "version": "3.6.3"
  }
 },
 "nbformat": 4,
 "nbformat_minor": 2
}
